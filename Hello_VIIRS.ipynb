{
 "cells": [
  {
   "cell_type": "code",
   "execution_count": null,
   "metadata": {},
   "outputs": [],
   "source": [
    "from pathlib import Path\n",
    "import xarray\n",
    "#import datatree \n",
    "import cartopy.crs as ccrs\n",
    "import cartopy  \n",
    "import matplotlib.pyplot as plt\n",
    "datadir = Path.home() / \"Downloads\" # Path.home() makes the code work for different users  "
   ]
  },
  {
   "attachments": {},
   "cell_type": "markdown",
   "metadata": {},
   "source": [
    "Read vpn03 files"
   ]
  },
  {
   "cell_type": "code",
   "execution_count": null,
   "metadata": {},
   "outputs": [],
   "source": [
    "#def read_vnp03(filename):     \n",
    "\n",
    "filename = \"VNP03MOD.A2020166.1342.002.2021125191832.nc\"\n",
    "# Open the file & make it a dataset\n",
    "vnp03 = xarray.open_dataset(datadir / filename, group = \"geolocation_data\",) \n",
    "list(vnp03) \n",
    "\n",
    "# Access the relavant variables \n",
    "height_ds = vnp03['height']  \n",
    "lwm_ds = vnp03['land_water_mask']   \n",
    "lat_ds = vnp03['latitude']   \n",
    "lon_ds = vnp03['longitude']  \n",
    "senazi_ds = vnp03['sensor_azimuth']  \n",
    "senzen_ds = vnp03['sensor_zenith']   \n",
    "solazi_ds = vnp03['solar_azimuth']   \n",
    "solzen_ds = vnp03['solar_zenith']   \n",
    "\n",
    "''' Scaling factors not needed automatically implented \n",
    "# Apply scaling factors/offsets \n",
    "height_scaled = height_ds * 1\n",
    "lwm_scaled = lwm_ds\n",
    "lat_scaled = lat_ds\n",
    "lon_scaled = lon_ds\n",
    "senazi_scaled = senazi_ds * 0.01\n",
    "senzen_scaled = senzen_ds * 0.01\n",
    "solazi_scaled = solazi_ds * 0.01\n",
    "solzen_scaled = solzen_ds * 0.01 \n",
    "'''\n",
    "\n",
    "# Extra: Read the long_names\n",
    "height_long = height_ds.attrs['long_name']\n",
    "lwm_long = lwm_ds.attrs['long_name']\n",
    "lat_long = lat_ds.attrs['long_name']\n",
    "lon_long = lon_ds.attrs['long_name'] \n",
    "senazi_long = senazi_ds.attrs['long_name']\n",
    "senzen_long = senzen_ds.attrs['long_name']\n",
    "solazi_long = solazi_ds.attrs['long_name']\n",
    "solzen_long = solzen_ds.attrs['long_name']   \n",
    "\n",
    "lwm_ds\n"
   ]
  },
  {
   "attachments": {},
   "cell_type": "markdown",
   "metadata": {},
   "source": [
    "Make the maps for relavant variables of the vnp03 files"
   ]
  },
  {
   "cell_type": "code",
   "execution_count": null,
   "metadata": {},
   "outputs": [],
   "source": [
    "# Land-Water Mask Map\n",
    "ax = plt.axes(projection = ccrs.PlateCarree())\n",
    "pc = ax.pcolormesh(lon_ds, lat_ds, lwm_ds) \n",
    "# Pass the longname as the title\n",
    "ax.set_title(lwm_long)\n",
    "ax.coastlines() \n",
    "# Replace integers with flag_meanings **NOT CURRENTLY WORKING\n",
    "formatter = plt.FuncFormatter(lambda val, loc: lwm_ds.attrs['flag_meanings'])\n",
    "# Colorbar and lables  \n",
    "cb = plt.colorbar(pc, ticks=[0,1,2,3,4,5,6,7], shrink=0.5, format=formatter)  \n",
    "plt.show()\n"
   ]
  },
  {
   "cell_type": "code",
   "execution_count": null,
   "metadata": {},
   "outputs": [],
   "source": [
    "# Height Map\n",
    "ax = plt.axes(projection = ccrs.PlateCarree())\n",
    "pc = ax.pcolormesh(lon_ds, lat_ds, height_ds) \n",
    "# Pass the longname as the title\n",
    "ax.set_title(height_long)\n",
    "ax.coastlines() \n",
    "# Colorbar and lables  \n",
    "cb = plt.colorbar(pc, shrink=0.5)\n",
    "plt.show()"
   ]
  },
  {
   "cell_type": "code",
   "execution_count": null,
   "metadata": {},
   "outputs": [],
   "source": [
    "# Sensor_Azimuth Map\n",
    "ax = plt.axes(projection = ccrs.PlateCarree())\n",
    "pc = ax.pcolormesh(lon_ds, lat_ds, senazi_ds) \n",
    "# Pass the longname as the title\n",
    "ax.set_title(senazi_long)\n",
    "ax.coastlines() \n",
    "# Colorbar and lables  \n",
    "cb = plt.colorbar(pc, shrink=0.5)\n",
    "plt.show()"
   ]
  },
  {
   "cell_type": "code",
   "execution_count": null,
   "metadata": {},
   "outputs": [],
   "source": [
    "# Sensor_Zenith Map\n",
    "ax = plt.axes(projection = ccrs.PlateCarree())\n",
    "pc = ax.pcolormesh(lon_ds, lat_ds, senzen_ds) \n",
    "# Pass the longname as the title\n",
    "ax.set_title(senzen_long)\n",
    "ax.coastlines() \n",
    "# Colorbar and lables  \n",
    "cb = plt.colorbar(pc, shrink=0.5)\n",
    "plt.show()"
   ]
  },
  {
   "cell_type": "code",
   "execution_count": null,
   "metadata": {},
   "outputs": [],
   "source": [
    "# Solar_Azimuth Map\n",
    "ax = plt.axes(projection = ccrs.PlateCarree())\n",
    "pc = ax.pcolormesh(lon_ds, lat_ds, solazi_ds) \n",
    "# Pass the longname as the title\n",
    "ax.set_title(solazi_long)\n",
    "ax.coastlines() \n",
    "# Colorbar and lables  \n",
    "cb = plt.colorbar(pc, shrink=0.5)\n",
    "plt.show()"
   ]
  },
  {
   "cell_type": "code",
   "execution_count": null,
   "metadata": {},
   "outputs": [],
   "source": [
    "# Solar Zenith Map\n",
    "ax = plt.axes(projection = ccrs.PlateCarree())\n",
    "pc = ax.pcolormesh(lon_ds, lat_ds, solzen_ds) \n",
    "# Pass the longname as the title\n",
    "ax.set_title(solzen_long)\n",
    "ax.coastlines() \n",
    "# Colorbar and lables  \n",
    "cb = plt.colorbar(pc, shrink=0.5)\n",
    "plt.show()"
   ]
  },
  {
   "attachments": {},
   "cell_type": "markdown",
   "metadata": {},
   "source": [
    "Read vnp02 files"
   ]
  },
  {
   "cell_type": "code",
   "execution_count": null,
   "metadata": {},
   "outputs": [],
   "source": [
    "#def read_vnp02():\n",
    "# Open the dataset\n",
    "open_ds = xarray.open_dataset(datadir / filename, group = \"observation_data\",) \n",
    "list(open_ds) \n",
    "\n",
    "# Access the relavant variables \n",
    "M03_ds = open_ds['M03']  # blue light\n",
    "M04_ds = open_ds['M04']  # green light  \n",
    "M05_ds = open_ds['M05']  # red light\n",
    "M09_ds = open_ds['M09']  # wavelength that water absorbs ligh\n",
    "M14_ds = open_ds['M14']  \n",
    "M14_BTL_ds = open_ds['M14_brightness_temperature_lut']   \n",
    "M15_ds = open_ds['M15']   \n",
    "M15_BTL_ds = open_ds['M15_brightness_temperature_lut'] \n",
    "M16_ds = open_ds['M16']   \n",
    "M16_BTL_ds = open_ds['M16_brightness_temperature_lut']  \n",
    "\n",
    "# Divide the reflectances by the cosine of the solar zenith angle "
   ]
  }
 ],
 "metadata": {
  "kernelspec": {
   "display_name": "hello-world-BDReUUFt-py3.11",
   "language": "python",
   "name": "python3"
  },
  "language_info": {
   "codemirror_mode": {
    "name": "ipython",
    "version": 3
   },
   "file_extension": ".py",
   "mimetype": "text/x-python",
   "name": "python",
   "nbconvert_exporter": "python",
   "pygments_lexer": "ipython3",
   "version": "3.11.4"
  },
  "orig_nbformat": 4
 },
 "nbformat": 4,
 "nbformat_minor": 2
}
